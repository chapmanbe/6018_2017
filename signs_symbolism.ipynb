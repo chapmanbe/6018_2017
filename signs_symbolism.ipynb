{
 "cells": [
  {
   "cell_type": "markdown",
   "metadata": {},
   "source": [
    "# Signs\n",
    "\n",
    "This notebook is drawn from *Once Upon an Algorithm* chapter 8.\n",
    "\n",
    "## There are Three Ways of Denote Meaning with Signs\n",
    "\n",
    "### Icon\n",
    "\n",
    ">[A]n icon represents an object based on its similarity or likeness to the object. An example is a drawing of a person that represents the person by highlighting specific features. (Erwig, Martin. *Once Upon an Algorithm: How Stories Explain Computing* (The MIT Press) (p. 56). The MIT Press. Kindle Edition.) \n",
    "\n",
    "### Indices\n",
    "\n",
    ">Second, an index represents an object through some lawlike relationship that lets the viewer of the index infer the object through this relationship. An example is a weather vane from whose direction the wind direction can be inferred. Other examples are all kinds of gauges that have been engineered as indexes for different physical phenomena (temperature, pressure, speed, etc.). The saying “Where there is smoke, there is fire” is based on smoke being an index for fire. An index sign is determined by the object it signifies through the lawlike relationship between them. (Erwig, Martin. *Once Upon an Algorithm: How Stories Explain Computing* (The MIT Press) (p. 56). The MIT Press. Kindle Edition.)\n",
    "\n",
    "\n",
    "#### What is the law-like relationship for interpreting this image?\n",
    "\n",
    "### Symbols\n",
    "\n",
    ">Third, a symbol represents an object by convention only; no likeness or lawlike connection is involved in the representation. Since the link between the signifier and the signified is completely arbitrary, the creator and the user of the sign must agree on the definition and interpretation of the sign for it to work. Most modern languages are symbolic. The fact that the word “tree” stands for a tree cannot be inferred but is a fact that has to be learned. Similarly, that “11” is a symbol for eleven as well as three and that the pebbles [in the story of Hansel and Grettel] are symbols for locations are conventions. (Erwig, Martin. *Once Upon an Algorithm: How Stories Explain Computing* (The MIT Press) (pp. 56-57). The MIT Press. Kindle Edition.) \n",
    "\n",
    "![female](https://upload.wikimedia.org/wikipedia/commons/thumb/6/66/Venus_symbol.svg/240px-Venus_symbol.svg.png)\n",
    "![male](https://upload.wikimedia.org/wikipedia/commons/thumb/b/b7/Mars_symbol.svg/240px-Mars_symbol.svg.png)\n",
    "\n",
    "\n",
    "![men vs women](https://upload.wikimedia.org/wikipedia/en/thumb/5/53/Restroom_symbols.svg/223px-Restroom_symbols.svg.png)\n",
    "\n",
    "![Binary Sex Coding](SexCoding.png)"
   ]
  },
  {
   "cell_type": "markdown",
   "metadata": {},
   "source": [
    "[Obesity](https://nyti.ms/2KHSwgt)"
   ]
  },
  {
   "cell_type": "code",
   "execution_count": null,
   "metadata": {},
   "outputs": [],
   "source": []
  }
 ],
 "metadata": {
  "kernelspec": {
   "display_name": "Python [default]",
   "language": "python",
   "name": "python3"
  },
  "language_info": {
   "codemirror_mode": {
    "name": "ipython",
    "version": 3
   },
   "file_extension": ".py",
   "mimetype": "text/x-python",
   "name": "python",
   "nbconvert_exporter": "python",
   "pygments_lexer": "ipython3",
   "version": "3.6.4"
  }
 },
 "nbformat": 4,
 "nbformat_minor": 2
}
